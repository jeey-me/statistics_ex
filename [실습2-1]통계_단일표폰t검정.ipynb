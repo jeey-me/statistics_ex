{
 "cells": [
  {
   "cell_type": "markdown",
   "metadata": {},
   "source": [
    "# 단일표본t-검정\n"
   ]
  },
  {
   "cell_type": "code",
   "execution_count": 1,
   "metadata": {},
   "outputs": [
    {
     "name": "stdout",
     "output_type": "stream",
     "text": [
      "[163.94, 162.48, 164.29, 166.3, 162.26, 162.26, 166.43, 164.57, 161.72, 164.05, 161.73, 161.73, 163.36, 158.4, 158.83, 161.51, 160.47, 163.52, 160.71, 159.55, 166.17, 162.28, 162.96, 159.52, 161.55, 163.06, 160.15, 163.66, 161.42, 162.13]\n"
     ]
    }
   ],
   "source": [
    "# 데이터 불러오기 \n",
    "with open(\"./datas2/성인여성_키_데이터.txt\" , \"r\") as file: #해당 경로의 파일 속 데이터를 파일이라는 이름으로 불러옴 \n",
    "    # print(file.read().split(\"\\n\")) # 데이터 잘 가져오는지 확인 \n",
    "    data = file.read().split(\"\\n\") # 변수로 식별해서 사용하기 용이하게 만들어줌 \n",
    "    print(list(map(float,data))) # data를 float형식으로 map핑해서줌 -> 확인할 수 있도록 list로 감싸서 확인\n",
    "    data = list(map(float,data)) # data 라는 변수를 재사용함 B) 위에 내용과 같은 내용이고 이전 내용을 다시쓸 일 없음 "
   ]
  },
  {
   "cell_type": "code",
   "execution_count": 2,
   "metadata": {},
   "outputs": [
    {
     "name": "stdout",
     "output_type": "stream",
     "text": [
      "[163.94, 162.48, 164.29, 166.3, 162.26, 162.26, 166.43, 164.57, 161.72, 164.05, 161.73, 161.73, 163.36, 158.4, 158.83, 161.51, 160.47, 163.52, 160.71, 159.55, 166.17, 162.28, 162.96, 159.52, 161.55, 163.06, 160.15, 163.66, 161.42, 162.13]\n",
      "30\n"
     ]
    }
   ],
   "source": [
    "print(data)\n",
    "print(len(data))"
   ]
  },
  {
   "cell_type": "code",
   "execution_count": 3,
   "metadata": {},
   "outputs": [
    {
     "data": {
      "text/plain": [
       "(np.float64(162.37), np.float64(2.04), np.float64(2.07))"
      ]
     },
     "execution_count": 3,
     "metadata": {},
     "output_type": "execute_result"
    }
   ],
   "source": [
    "# 평균과 표준편차 계산 \n",
    "import numpy as np\n",
    "mean_value = round(np.mean(data),2)\n",
    "std_dev_0 = round(np.std(data,ddof=0),2) #모집단 표준편차\n",
    "std_dev_1 = round(np.std(data,ddof=1),2) #표본집단 표준편차\n",
    "\n",
    "mean_value, std_dev_0 , std_dev_1\n"
   ]
  },
  {
   "cell_type": "markdown",
   "metadata": {},
   "source": [
    "## 정규성 검정(ks테스트)"
   ]
  },
  {
   "cell_type": "code",
   "execution_count": 4,
   "metadata": {},
   "outputs": [],
   "source": [
    "from scipy.stats import * #통계에서 많이 쓰는 라이브러리 : stats까지 들어가서 그안에 있는 모든것을 가져옴 \n",
    "# from scipy import stats #통계에서 많이 쓰는 라이브러리 다른방식 : scipy까지 들어가서 그곳에 stats를 모두 가져옴"
   ]
  },
  {
   "cell_type": "code",
   "execution_count": 5,
   "metadata": {},
   "outputs": [
    {
     "data": {
      "text/plain": [
       "KstestResult(statistic=np.float64(0.0873867058328352), pvalue=np.float64(0.9607124066928114), statistic_location=np.float64(161.42), statistic_sign=np.int8(-1))"
      ]
     },
     "execution_count": 5,
     "metadata": {},
     "output_type": "execute_result"
    }
   ],
   "source": [
    "kstest(data, 'norm',args=(mean_value,std_dev_0))\n",
    "# kstest(표본데이터, '정규분포',args=(표본평균,표본 표준편차))\n",
    "# kstest(data, 'norm',args=(mean_value,std_dev_1))\n",
    "# stats.kstest() # 다른방식으로 불러오는경우 이렇게 상용해야함. \n",
    "# => p-value>0.05 == 정규분포를 따른다 == 단일표본 t검정을 할 수 있다. "
   ]
  },
  {
   "cell_type": "markdown",
   "metadata": {},
   "source": [
    "## 가설검정(단일표본t검정)\n",
    "- 귀무가설(영가설) : 표본 데이터의 평균은 163과 같다 \n",
    "- 대립가설 : 표본 데이터의 평균은 163과 다르다 "
   ]
  },
  {
   "cell_type": "code",
   "execution_count": 6,
   "metadata": {},
   "outputs": [
    {
     "data": {
      "text/plain": [
       "TtestResult(statistic=np.float64(-1.6747153343266057), pvalue=np.float64(0.10474264924733795), df=np.int64(29))"
      ]
     },
     "execution_count": 6,
     "metadata": {},
     "output_type": "execute_result"
    }
   ],
   "source": [
    "ttest_1samp(data, 163)"
   ]
  },
  {
   "cell_type": "markdown",
   "metadata": {},
   "source": [
    "# 단일표본 t검정 문제 만들기 \n",
    "- 한 제조업체에서는 자사의 제품 길이가 평균 50mm로 생산되어야 한다고 주장한다. 이를 검증하기위해 30개의 제품을 임의로 선택하여 실제 길이를 측정했다. 이 데이터로 단일표본 t검정을 수행하여 제품의 평균 길이가 50mm와 유의미하게 차이가 있는지 확인해보려한다. "
   ]
  },
  {
   "cell_type": "code",
   "execution_count": 19,
   "metadata": {},
   "outputs": [
    {
     "name": "stdout",
     "output_type": "stream",
     "text": [
      "[49.8, 50.1, 50.3, 49.7, 50.0, 50.2, 49.9, 50.4, 50.0, 49.8, 50.3, 50.1, 50.0, 49.9, 50.2, 50.0, 50.1, 50.3, 49.7, 50.4, 50.0, 49.9, 50.1, 50.3, 49.8, 50.2, 50.0, 49.9, 50.4, 50.1]\n"
     ]
    }
   ],
   "source": [
    "# 데이터 불러오기 \n",
    "with open(\"./datas2/제품길이.txt\" , \"r\") as file2: #해당 경로의 파일 속 데이터를 파일이라는 이름으로 불러옴 \n",
    "    # print(file.read().split(\"\\n\")) # 데이터 잘 가져오는지 확인 \n",
    "    product_data = file2.read().split(\"\\n\") # 변수로 식별해서 사용하기 용이하게 만들어줌 \n",
    "    print(list(map(float,product_data))) # product_data를 float형식으로 map핑해서줌 -> 확인할 수 있도록 list로 감싸서 확인\n",
    "    product_data = list(map(float,product_data)) # 변수를 재사용함 B) 위에 내용과 같은 내용이고 이전 내용을 다시쓸 일 없음"
   ]
  },
  {
   "cell_type": "code",
   "execution_count": 17,
   "metadata": {},
   "outputs": [
    {
     "name": "stdout",
     "output_type": "stream",
     "text": [
      "['49.8 ', '50.1 ', '50.3 ', '49.7 ', '50.0 ', '50.2 ', '49.9 ', '50.4 ', '50.0 ', '49.8', '50.3 ', '50.1 ', '50.0 ', '49.9 ', '50.2 ', '50.0 ', '50.1 ', '50.3 ', '49.7 ', '50.4', '50.0 ', '49.9 ', '50.1 ', '50.3 ', '49.8 ', '50.2 ', '50.0 ', '49.9 ', '50.4 ', '50.1']\n",
      "30\n"
     ]
    }
   ],
   "source": [
    "print(product_data)\n",
    "print(len(product_data))"
   ]
  },
  {
   "cell_type": "code",
   "execution_count": 20,
   "metadata": {},
   "outputs": [
    {
     "data": {
      "text/plain": [
       "(np.float64(50.06), np.float64(0.2), np.float64(0.21))"
      ]
     },
     "execution_count": 20,
     "metadata": {},
     "output_type": "execute_result"
    }
   ],
   "source": [
    "# 평균과 표준편차 계산 \n",
    "import numpy as np\n",
    "pmean_value = round(np.mean(product_data),2)\n",
    "pstd_dev_0 = round(np.std(product_data,ddof=0),2) #모집단 표준편차\n",
    "pstd_dev_1 = round(np.std(product_data,ddof=1),2) #표본집단 표준편차\n",
    "\n",
    "pmean_value, pstd_dev_0 , pstd_dev_1"
   ]
  },
  {
   "cell_type": "code",
   "execution_count": null,
   "metadata": {},
   "outputs": [],
   "source": [
    "# 정규성검정 (ks테스트)\n",
    "from scipy.stats import *"
   ]
  },
  {
   "cell_type": "code",
   "execution_count": 22,
   "metadata": {},
   "outputs": [
    {
     "data": {
      "text/plain": [
       "KstestResult(statistic=np.float64(0.11826366311161995), pvalue=np.float64(0.7518358225836766), statistic_location=np.float64(50.3), statistic_sign=np.int8(-1))"
      ]
     },
     "execution_count": 22,
     "metadata": {},
     "output_type": "execute_result"
    }
   ],
   "source": [
    "kstest(product_data, 'norm',args=(pmean_value,pstd_dev_0))"
   ]
  },
  {
   "cell_type": "code",
   "execution_count": 25,
   "metadata": {},
   "outputs": [
    {
     "data": {
      "text/plain": [
       "TtestResult(statistic=np.float64(1.684605725059344), pvalue=np.float64(0.10279897764014638), df=np.int64(29))"
      ]
     },
     "execution_count": 25,
     "metadata": {},
     "output_type": "execute_result"
    }
   ],
   "source": [
    "# pvalue >0.05 그러므로 검정 가능\n",
    "ttest_1samp(product_data, 50)"
   ]
  },
  {
   "cell_type": "markdown",
   "metadata": {},
   "source": [
    "# 독립표본 t 검정"
   ]
  },
  {
   "cell_type": "code",
   "execution_count": 26,
   "metadata": {},
   "outputs": [],
   "source": [
    "import pandas as pd"
   ]
  },
  {
   "cell_type": "code",
   "execution_count": 33,
   "metadata": {},
   "outputs": [
    {
     "data": {
      "text/html": [
       "<div>\n",
       "<style scoped>\n",
       "    .dataframe tbody tr th:only-of-type {\n",
       "        vertical-align: middle;\n",
       "    }\n",
       "\n",
       "    .dataframe tbody tr th {\n",
       "        vertical-align: top;\n",
       "    }\n",
       "\n",
       "    .dataframe thead th {\n",
       "        text-align: right;\n",
       "    }\n",
       "</style>\n",
       "<table border=\"1\" class=\"dataframe\">\n",
       "  <thead>\n",
       "    <tr style=\"text-align: right;\">\n",
       "      <th></th>\n",
       "      <th>반</th>\n",
       "      <th>점수</th>\n",
       "    </tr>\n",
       "  </thead>\n",
       "  <tbody>\n",
       "    <tr>\n",
       "      <th>0</th>\n",
       "      <td>A</td>\n",
       "      <td>73</td>\n",
       "    </tr>\n",
       "    <tr>\n",
       "      <th>1</th>\n",
       "      <td>A</td>\n",
       "      <td>69</td>\n",
       "    </tr>\n",
       "    <tr>\n",
       "      <th>2</th>\n",
       "      <td>A</td>\n",
       "      <td>71</td>\n",
       "    </tr>\n",
       "    <tr>\n",
       "      <th>3</th>\n",
       "      <td>A</td>\n",
       "      <td>71</td>\n",
       "    </tr>\n",
       "    <tr>\n",
       "      <th>4</th>\n",
       "      <td>A</td>\n",
       "      <td>73</td>\n",
       "    </tr>\n",
       "  </tbody>\n",
       "</table>\n",
       "</div>"
      ],
      "text/plain": [
       "   반  점수\n",
       "0  A  73\n",
       "1  A  69\n",
       "2  A  71\n",
       "3  A  71\n",
       "4  A  73"
      ]
     },
     "execution_count": 33,
     "metadata": {},
     "output_type": "execute_result"
    }
   ],
   "source": [
    "df1 = pd.read_csv(\"./datas2/반별_점수_type1.csv\",encoding=\"euc-kr\") #utf-8인경우는 인코딩 따로 안해도 됨\n",
    "df1.head()"
   ]
  },
  {
   "cell_type": "code",
   "execution_count": 34,
   "metadata": {},
   "outputs": [
    {
     "data": {
      "text/plain": [
       "반\n",
       "A    20\n",
       "B    10\n",
       "Name: count, dtype: int64"
      ]
     },
     "execution_count": 34,
     "metadata": {},
     "output_type": "execute_result"
    }
   ],
   "source": [
    "df1.value_counts('반')"
   ]
  },
  {
   "cell_type": "code",
   "execution_count": 38,
   "metadata": {},
   "outputs": [
    {
     "name": "stdout",
     "output_type": "stream",
     "text": [
      "[73 69 71 71 73 67 73 69 62 74 68 66 70 82 70 65 76 73 58 81]\n",
      "[63 56 73 61 55 77 75 65 61 55]\n"
     ]
    }
   ],
   "source": [
    "groupA = df1['점수'].loc[df1['반'] == 'A']. values\n",
    "groupB = df1['점수'].loc[df1['반'] == 'B']. values\n",
    "print(groupA)\n",
    "print(groupB)"
   ]
  },
  {
   "cell_type": "markdown",
   "metadata": {},
   "source": [
    "## 정규성 검정(ks-test 활용)"
   ]
  },
  {
   "cell_type": "code",
   "execution_count": 39,
   "metadata": {},
   "outputs": [
    {
     "name": "stdout",
     "output_type": "stream",
     "text": [
      "KstestResult(statistic=np.float64(1.0), pvalue=np.float64(0.0), statistic_location=np.int64(58), statistic_sign=np.int8(-1))\n",
      "KstestResult(statistic=np.float64(1.0), pvalue=np.float64(0.0), statistic_location=np.int64(55), statistic_sign=np.int8(-1))\n"
     ]
    }
   ],
   "source": [
    "print(kstest(groupA, 'norm'))\n",
    "print(kstest(groupB, 'norm'))"
   ]
  },
  {
   "cell_type": "code",
   "execution_count": 40,
   "metadata": {},
   "outputs": [
    {
     "data": {
      "text/plain": [
       "np.float64(32.26052631578948)"
      ]
     },
     "execution_count": 40,
     "metadata": {},
     "output_type": "execute_result"
    }
   ],
   "source": [
    "np.var(groupA, ddof=1)"
   ]
  },
  {
   "cell_type": "code",
   "execution_count": 41,
   "metadata": {},
   "outputs": [
    {
     "data": {
      "text/plain": [
       "np.float64(68.54444444444445)"
      ]
     },
     "execution_count": 41,
     "metadata": {},
     "output_type": "execute_result"
    }
   ],
   "source": [
    "np.var(groupB, ddof=1)"
   ]
  },
  {
   "cell_type": "markdown",
   "metadata": {},
   "source": [
    "## 독립표본t-검정 수행"
   ]
  },
  {
   "cell_type": "code",
   "execution_count": 42,
   "metadata": {},
   "outputs": [
    {
     "data": {
      "text/plain": [
       "TtestResult(statistic=np.float64(2.5128526794964134), pvalue=np.float64(0.01801095352893767), df=np.float64(28.0))"
      ]
     },
     "execution_count": 42,
     "metadata": {},
     "output_type": "execute_result"
    }
   ],
   "source": [
    "ttest_ind(groupA, groupB, equal_var=True)"
   ]
  },
  {
   "cell_type": "markdown",
   "metadata": {},
   "source": [
    "[해석]  \n",
    "-pvalue=0.018 < 0.05 이므로 귀무가설 기각, 대립가설 성립할 가능성이 높다.   \n",
    "-통계값이 양수이므로 A반 학생들의 성적이 더 높을 가능성이 높다. "
   ]
  },
  {
   "cell_type": "markdown",
   "metadata": {},
   "source": []
  }
 ],
 "metadata": {
  "kernelspec": {
   "display_name": "eda_env",
   "language": "python",
   "name": "python3"
  },
  "language_info": {
   "codemirror_mode": {
    "name": "ipython",
    "version": 3
   },
   "file_extension": ".py",
   "mimetype": "text/x-python",
   "name": "python",
   "nbconvert_exporter": "python",
   "pygments_lexer": "ipython3",
   "version": "3.9.21"
  }
 },
 "nbformat": 4,
 "nbformat_minor": 2
}
