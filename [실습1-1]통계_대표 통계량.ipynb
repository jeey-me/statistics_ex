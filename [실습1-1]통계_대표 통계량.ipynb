{
 "cells": [
  {
   "cell_type": "markdown",
   "metadata": {},
   "source": [
    "# 대표통계량"
   ]
  },
  {
   "cell_type": "markdown",
   "metadata": {},
   "source": [
    "- 라이브러리 설치 pip install numpy scipy pandas"
   ]
  },
  {
   "cell_type": "code",
   "execution_count": 4,
   "metadata": {},
   "outputs": [],
   "source": [
    "import numpy as np\n",
    "from scipy import stats\n",
    "import pandas as pd"
   ]
  },
  {
   "cell_type": "markdown",
   "metadata": {},
   "source": [
    "### 산술평균계산"
   ]
  },
  {
   "cell_type": "code",
   "execution_count": 5,
   "metadata": {},
   "outputs": [
    {
     "name": "stdout",
     "output_type": "stream",
     "text": [
      "64.0\n",
      "64.0\n",
      "64.0\n",
      "64.0\n"
     ]
    }
   ],
   "source": [
    "# 성적의 평균 구하기\n",
    "x = [70, 60, 80, 60, 50]\n",
    "print(np.sum(x)/len(x))\n",
    "print(np.mean(x))\n",
    "print(np.array(x).mean())\n",
    "print(pd.Series(x).mean())"
   ]
  },
  {
   "cell_type": "markdown",
   "metadata": {},
   "source": [
    "### 조화 평균 "
   ]
  },
  {
   "cell_type": "code",
   "execution_count": 6,
   "metadata": {},
   "outputs": [
    {
     "name": "stdout",
     "output_type": "stream",
     "text": [
      "47.99999999999999\n",
      "47.99999999999999\n"
     ]
    }
   ],
   "source": [
    "# 문제 : 자동차가 60km/h로 1시간, 40km/h로 1시간 주행을 했을 때, 평균 속도 구하기\n",
    "x = np.array([60, 40])\n",
    "print(len(x) / np.sum(1/x))\n",
    "print(stats.hmean(x))\n"
   ]
  },
  {
   "cell_type": "markdown",
   "metadata": {},
   "source": [
    "### 절사 평균"
   ]
  },
  {
   "cell_type": "code",
   "execution_count": 7,
   "metadata": {},
   "outputs": [
    {
     "name": "stdout",
     "output_type": "stream",
     "text": [
      "3011219.71\n"
     ]
    }
   ],
   "source": [
    "# 월 평균이 3백만원이고 표준편차가 50만원인 정규 분포를 따르는 소득을 갖는 100명 생성\n",
    "income = np.random.normal(3000000, 500000, 100) #namal = 정규분포를 따름 \n",
    "print(round(np.mean(income), 2)) #2=소수둘째자리까지 "
   ]
  },
  {
   "cell_type": "code",
   "execution_count": 8,
   "metadata": {},
   "outputs": [
    {
     "name": "stdout",
     "output_type": "stream",
     "text": [
      "12882395.75\n"
     ]
    }
   ],
   "source": [
    "# 월 소득이 10억원인 사람의 등장\n",
    "# 100명의 소득이 300만원에 가까운데, 한 명 때문에 대표값인 평균이 약 1300만원에 달함\n",
    "income = np.append(income, 10**9) \n",
    "print(round(np.mean(income), 2)) "
   ]
  },
  {
   "cell_type": "code",
   "execution_count": 9,
   "metadata": {},
   "outputs": [
    {
     "data": {
      "text/plain": [
       "np.float64(3027550.5203864453)"
      ]
     },
     "execution_count": 9,
     "metadata": {},
     "output_type": "execute_result"
    }
   ],
   "source": [
    "# 그래서 절사값으로 계산함\n",
    "stats.trim_mean(income, 0.2) # [20% ~ 80%]은 제외하고 계산"
   ]
  },
  {
   "cell_type": "markdown",
   "metadata": {},
   "source": [
    "### 최빈값 계산"
   ]
  },
  {
   "cell_type": "code",
   "execution_count": 10,
   "metadata": {},
   "outputs": [
    {
     "name": "stdout",
     "output_type": "stream",
     "text": [
      "['B' 'A' 'A' 'A' 'A' 'B' 'C' 'A' 'A' 'C']\n",
      "1000\n"
     ]
    }
   ],
   "source": [
    "# A, B, C라는 요소로 데이터 1000개 만들기\n",
    "x = np.random.choice(['A', 'B', 'C'], 1000) \n",
    "print(x[:10])\n",
    "print(len(x))"
   ]
  },
  {
   "cell_type": "code",
   "execution_count": 11,
   "metadata": {},
   "outputs": [
    {
     "data": {
      "text/plain": [
       "array(['A', 'B', 'C'], dtype='<U1')"
      ]
     },
     "execution_count": 11,
     "metadata": {},
     "output_type": "execute_result"
    }
   ],
   "source": [
    "# 유니크한 값만 추출\n",
    "np.unique(x) "
   ]
  },
  {
   "cell_type": "code",
   "execution_count": 12,
   "metadata": {},
   "outputs": [
    {
     "data": {
      "text/plain": [
       "B    360\n",
       "A    322\n",
       "C    318\n",
       "Name: count, dtype: int64"
      ]
     },
     "execution_count": 12,
     "metadata": {},
     "output_type": "execute_result"
    }
   ],
   "source": [
    "pd.Series(x).value_counts()"
   ]
  },
  {
   "cell_type": "code",
   "execution_count": 13,
   "metadata": {},
   "outputs": [
    {
     "data": {
      "text/plain": [
       "'B'"
      ]
     },
     "execution_count": 13,
     "metadata": {},
     "output_type": "execute_result"
    }
   ],
   "source": [
    "pd.Series(x).value_counts().index[0] # 맨 앞에 있는 것이 최빈 값"
   ]
  },
  {
   "cell_type": "code",
   "execution_count": 14,
   "metadata": {},
   "outputs": [
    {
     "name": "stdout",
     "output_type": "stream",
     "text": [
      "최빈값: B\n",
      "최빈값의 빈도수: 360\n"
     ]
    }
   ],
   "source": [
    "from collections import Counter\n",
    "counter = Counter(x)\n",
    "mode_value, mode_count = counter.most_common(1)[0]  # 최빈값과 빈도수 추출\n",
    "\n",
    "print(\"최빈값:\", mode_value)\n",
    "print(\"최빈값의 빈도수:\", mode_count)"
   ]
  },
  {
   "cell_type": "markdown",
   "metadata": {},
   "source": [
    "### 데이터의 대푯값"
   ]
  },
  {
   "cell_type": "code",
   "execution_count": 14,
   "metadata": {},
   "outputs": [],
   "source": [
    "import numpy as np\n",
    "from scipy import stats\n",
    "import pandas as pd"
   ]
  },
  {
   "cell_type": "code",
   "execution_count": 15,
   "metadata": {},
   "outputs": [
    {
     "name": "stdout",
     "output_type": "stream",
     "text": [
      "[4 4 2 1 1 0 3 0 2 3]\n",
      "평균값 : 2.0\n",
      "중앙값 :  2.0\n",
      "최빈값 : 0, 최빈 횟수 : 2 \n"
     ]
    }
   ],
   "source": [
    "#np.random.seed(0)\n",
    "data = np.random.randint(0, 5, 10)\n",
    "print(data)\n",
    "\n",
    "mean = np.mean(data); print(\"평균값 :\", mean.round(2))\n",
    "median = np.median(data); print(\"중앙값 : \", median)\n",
    "mode = stats.mode(data); print(f\"최빈값 : {mode.mode}, 최빈 횟수 : {mode.count} \")"
   ]
  },
  {
   "cell_type": "markdown",
   "metadata": {},
   "source": [
    "### 판다스로 대푯값 구하기 "
   ]
  },
  {
   "cell_type": "markdown",
   "metadata": {},
   "source": [
    "- 평균값, 중앙값, 최빈값"
   ]
  },
  {
   "cell_type": "code",
   "execution_count": 16,
   "metadata": {},
   "outputs": [
    {
     "name": "stdout",
     "output_type": "stream",
     "text": [
      "평균값 :  61.666666666666664\n",
      "중앙값 :  60.0\n",
      "최빈값 :  0    60\n",
      "1    80\n",
      "dtype: int64\n",
      "최빈값 :  [60, 80]\n"
     ]
    }
   ],
   "source": [
    "import pandas as pd\n",
    "\n",
    "data = pd.Series([60, 40, 60, 80, 50, 80])\n",
    "print(\"평균값 : \", data.mean())\n",
    "print(\"중앙값 : \", data.median())\n",
    "print(\"최빈값 : \", data.mode())\n",
    "print(\"최빈값 : \", data.mode().to_list())"
   ]
  },
  {
   "cell_type": "code",
   "execution_count": null,
   "metadata": {},
   "outputs": [],
   "source": []
  }
 ],
 "metadata": {
  "kernelspec": {
   "display_name": "eda_env",
   "language": "python",
   "name": "python3"
  },
  "language_info": {
   "codemirror_mode": {
    "name": "ipython",
    "version": 3
   },
   "file_extension": ".py",
   "mimetype": "text/x-python",
   "name": "python",
   "nbconvert_exporter": "python",
   "pygments_lexer": "ipython3",
   "version": "3.9.21"
  }
 },
 "nbformat": 4,
 "nbformat_minor": 2
}
