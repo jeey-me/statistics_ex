{
 "cells": [
  {
   "cell_type": "markdown",
   "id": "b60e5b8e",
   "metadata": {},
   "source": [
    "# 일원분산분석"
   ]
  },
  {
   "cell_type": "code",
   "execution_count": 1,
   "id": "178f44da",
   "metadata": {},
   "outputs": [],
   "source": [
    "import pandas as pd"
   ]
  },
  {
   "cell_type": "code",
   "execution_count": 3,
   "id": "57b7bee4",
   "metadata": {},
   "outputs": [
    {
     "data": {
      "text/html": [
       "<div>\n",
       "<style scoped>\n",
       "    .dataframe tbody tr th:only-of-type {\n",
       "        vertical-align: middle;\n",
       "    }\n",
       "\n",
       "    .dataframe tbody tr th {\n",
       "        vertical-align: top;\n",
       "    }\n",
       "\n",
       "    .dataframe thead th {\n",
       "        text-align: right;\n",
       "    }\n",
       "</style>\n",
       "<table border=\"1\" class=\"dataframe\">\n",
       "  <thead>\n",
       "    <tr style=\"text-align: right;\">\n",
       "      <th></th>\n",
       "      <th>일자</th>\n",
       "      <th>지점A</th>\n",
       "      <th>지점B</th>\n",
       "      <th>지점C</th>\n",
       "    </tr>\n",
       "  </thead>\n",
       "  <tbody>\n",
       "    <tr>\n",
       "      <th>0</th>\n",
       "      <td>1</td>\n",
       "      <td>124</td>\n",
       "      <td>118</td>\n",
       "      <td>216</td>\n",
       "    </tr>\n",
       "    <tr>\n",
       "      <th>1</th>\n",
       "      <td>2</td>\n",
       "      <td>147</td>\n",
       "      <td>141</td>\n",
       "      <td>214</td>\n",
       "    </tr>\n",
       "    <tr>\n",
       "      <th>2</th>\n",
       "      <td>3</td>\n",
       "      <td>129</td>\n",
       "      <td>130</td>\n",
       "      <td>212</td>\n",
       "    </tr>\n",
       "    <tr>\n",
       "      <th>3</th>\n",
       "      <td>4</td>\n",
       "      <td>123</td>\n",
       "      <td>127</td>\n",
       "      <td>179</td>\n",
       "    </tr>\n",
       "    <tr>\n",
       "      <th>4</th>\n",
       "      <td>5</td>\n",
       "      <td>147</td>\n",
       "      <td>107</td>\n",
       "      <td>222</td>\n",
       "    </tr>\n",
       "  </tbody>\n",
       "</table>\n",
       "</div>"
      ],
      "text/plain": [
       "   일자  지점A  지점B  지점C\n",
       "0   1  124  118  216\n",
       "1   2  147  141  214\n",
       "2   3  129  130  212\n",
       "3   4  123  127  179\n",
       "4   5  147  107  222"
      ]
     },
     "execution_count": 3,
     "metadata": {},
     "output_type": "execute_result"
    }
   ],
   "source": [
    "# 데이터 불러오기 및 확인 \n",
    "df = pd.read_csv(\"datas2/지점별_일별판매량.csv\", encoding='euc-kr')\n",
    "df.head()"
   ]
  },
  {
   "cell_type": "code",
   "execution_count": null,
   "id": "f95e23b0",
   "metadata": {},
   "outputs": [],
   "source": [
    "# 데이터 분할 (결측이 포함되어 있을 수 있으므로 dropna를 사용)\n",
    "A = df[\"지점A\"].dropna().values\n",
    "B = df[\"지점B\"].dropna().values\n",
    "C = df[\"지점C\"].dropna().values"
   ]
  },
  {
   "cell_type": "code",
   "execution_count": 8,
   "id": "cfc4e5f5",
   "metadata": {},
   "outputs": [
    {
     "data": {
      "image/png": "[encoded data removed]",
      "text/plain": [
       "<Figure size 500x500 with 1 Axes>"
      ]
     },
     "metadata": {},
     "output_type": "display_data"
    }
   ],
   "source": [
    "# 박스플롯으로 시각화 \n",
    "from matplotlib import pyplot as plt\n",
    "plt.rcParams[\"font.family\"] = \"Malgun Gothic\" #한글이 깨지지 않기위해서는 꼭 폰트지정해야함\n",
    "plt.rcParams[\"font.size\"] = 20\n",
    "plt.rcParams[\"figure.figsize\"] = (5,5)\n",
    "plt.boxplot([A, B, C])\n",
    "plt.xticks([1, 2, 3], [\"지점 A\", \"지점 B\", \"지점 C\"])\n",
    "plt.show()"
   ]
  },
  {
   "cell_type": "markdown",
   "id": "a377d2b0",
   "metadata": {},
   "source": [
    "### 정규성 검정\n",
    "- shapiro-wilk 검정"
   ]
  },
  {
   "cell_type": "code",
   "execution_count": 10,
   "id": "7f335dc5",
   "metadata": {},
   "outputs": [
    {
     "name": "stdout",
     "output_type": "stream",
     "text": [
      "ShapiroResult(statistic=np.float64(0.9806113784179772), pvalue=np.float64(0.8415709891789398))\n",
      "ShapiroResult(statistic=np.float64(0.9756594683381399), pvalue=np.float64(0.7021590584338278))\n",
      "ShapiroResult(statistic=np.float64(0.9766118849758917), pvalue=np.float64(0.7301124246612438))\n"
     ]
    }
   ],
   "source": [
    "from scipy import stats\n",
    "print(stats.shapiro(A-B))\n",
    "print(stats.shapiro(A-C))\n",
    "print(stats.shapiro(B-C))\n"
   ]
  },
  {
   "cell_type": "markdown",
   "id": "754d62c1",
   "metadata": {},
   "source": [
    "### 등분산성 검정\n",
    "- 레빈 검정 -> 권장\n",
    "- certer='median'이 기본값이며, 평균보다 이상치에 덜 민감하여 더 안정적임 "
   ]
  },
  {
   "cell_type": "code",
   "execution_count": 15,
   "id": "0de85c1f",
   "metadata": {},
   "outputs": [
    {
     "name": "stdout",
     "output_type": "stream",
     "text": [
      "levene_stat: 1.244640322359082, levene_p_value: 0.29312188689352464\n"
     ]
    }
   ],
   "source": [
    "levene_stat, levene_p_value = stats.levene(A, B, C, center='median')\n",
    "print(f\"levene_stat: {levene_stat}, levene_p_value: {levene_p_value}\")\n",
    "# 해석 : p-value > 0.05, 샘플 간 분산이 유사하다고 판단할 수 있음"
   ]
  },
  {
   "cell_type": "markdown",
   "id": "bdfe714b",
   "metadata": {},
   "source": [
    "### 일원분산 분석 수행 "
   ]
  },
  {
   "cell_type": "code",
   "execution_count": 17,
   "id": "287a2fda",
   "metadata": {},
   "outputs": [
    {
     "name": "stdout",
     "output_type": "stream",
     "text": [
      "F_onewayResult(statistic=np.float64(178.43825416847133), pvalue=np.float64(1.6337420285664832e-31))\n"
     ]
    }
   ],
   "source": [
    "print(stats.f_oneway(A, B, C))\n",
    "# 해석 \n",
    "# p-value <= 0.05 : 거의 0에 가까우므로, 귀무가설을 강력하게 기각함 \n",
    "# 최소 하나의 그룹은 다른 그룹의 평균과 다르다고 판단할 수 있음"
   ]
  },
  {
   "cell_type": "markdown",
   "id": "9ef515f4",
   "metadata": {},
   "source": [
    "### 사후분석"
   ]
  },
  {
   "cell_type": "code",
   "execution_count": 18,
   "id": "914f241e",
   "metadata": {},
   "outputs": [
    {
     "name": "stdout",
     "output_type": "stream",
     "text": [
      "[124, 147, 129, 123, 147, 149, 140, 142, 124, 166, 127, 130, 139, 121, 149, 155, 140, 150, 137, 144, 136, 126, 150, 142, 149, 127, 140, 138, 128, 117, 118, 141, 130, 127, 107, 140, 146, 122, 160, 157, 141, 142, 150, 136, 157, 107, 172, 126, 135, 115, 133, 132, 127, 128, 142, 161, 140, 125, 142, 135, 216, 214, 212, 179, 222, 238, 218, 200, 186, 188, 216, 183, 198, 199, 187, 183, 190, 161, 203, 192, 235, 208, 187, 201, 196, 202, 209, 179, 197, 204]\n",
      "['A', 'A', 'A', 'A', 'A', 'A', 'A', 'A', 'A', 'A', 'A', 'A', 'A', 'A', 'A', 'A', 'A', 'A', 'A', 'A', 'A', 'A', 'A', 'A', 'A', 'A', 'A', 'A', 'A', 'A', 'B', 'B', 'B', 'B', 'B', 'B', 'B', 'B', 'B', 'B', 'B', 'B', 'B', 'B', 'B', 'B', 'B', 'B', 'B', 'B', 'B', 'B', 'B', 'B', 'B', 'B', 'B', 'B', 'B', 'B', 'C', 'C', 'C', 'C', 'C', 'C', 'C', 'C', 'C', 'C', 'C', 'C', 'C', 'C', 'C', 'C', 'C', 'C', 'C', 'C', 'C', 'C', 'C', 'C', 'C', 'C', 'C', 'C', 'C', 'C']\n"
     ]
    }
   ],
   "source": [
    "from statsmodels.stats import multicomp\n",
    "# 분석 대상 데이터 \n",
    "Data = A.tolist() + B.tolist() + C.tolist()\n",
    "# 각 값이 속한 그룹 이름\n",
    "Group = [\"A\"] * len(A) + [\"B\"] * len(B) + [\"C\"] * len(C)\n",
    "\n",
    "print(Data)\n",
    "print(Group)"
   ]
  },
  {
   "cell_type": "code",
   "execution_count": 19,
   "id": "ced1ef64",
   "metadata": {},
   "outputs": [
    {
     "name": "stdout",
     "output_type": "stream",
     "text": [
      " Multiple Comparison of Means - Tukey HSD, FWER=0.05 \n",
      "=====================================================\n",
      "group1 group2 meandiff p-adj   lower    upper  reject\n",
      "-----------------------------------------------------\n",
      "     A      B     -1.4 0.9297 -10.5741  7.7741  False\n",
      "     A      C  62.2333    0.0  53.0592 71.4075   True\n",
      "     B      C  63.6333    0.0  54.4592 72.8075   True\n",
      "-----------------------------------------------------\n"
     ]
    }
   ],
   "source": [
    "# 사후분석\n",
    "print(multicomp.pairwise_tukeyhsd(Data, Group))"
   ]
  },
  {
   "cell_type": "markdown",
   "id": "e8949c24",
   "metadata": {},
   "source": [
    "[해석]\n",
    "\n",
    "결론: [A, B] / [C]로 데이터가 구분됨  \n",
    "reject False, p-adj > 0.05  \n",
    "A - B는 유의한 차이가 존재하지 않음  \n",
    "reject True, p-adj <= 0.05  \n",
    "A - C는 유의한 차이 존재  \n",
    "reject True, p-adj <= 0.05  \n",
    "B - C는 유의한 차이 존재  \n",
    "  \n",
    "    \n",
    "[tip]\n",
    "\n",
    "statsmodels 라이브러리  \n",
    "!pip install statsmodels  \n",
    "회귀 분석, 시계열 분석, 분산 분석(ANOVA), 가설 검정 등 다양한 통계 기법을 포함하고 있어, 데이터 분석 및 경제학, 사회과학 연구 등에서 널리 사용"
   ]
  },
  {
   "cell_type": "markdown",
   "id": "9e541f91",
   "metadata": {},
   "source": []
  }
 ],
 "metadata": {
  "kernelspec": {
   "display_name": "eda_env",
   "language": "python",
   "name": "python3"
  },
  "language_info": {
   "codemirror_mode": {
    "name": "ipython",
    "version": 3
   },
   "file_extension": ".py",
   "mimetype": "text/x-python",
   "name": "python",
   "nbconvert_exporter": "python",
   "pygments_lexer": "ipython3",
   "version": "3.9.21"
  }
 },
 "nbformat": 4,
 "nbformat_minor": 5
}
