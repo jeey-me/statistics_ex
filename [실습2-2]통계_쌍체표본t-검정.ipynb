{
 "cells": [
  {
   "cell_type": "markdown",
   "id": "52d2cd8f",
   "metadata": {},
   "source": [
    "# 쌍체 표본 t검정\n",
    "- 다이어트 전과 후의 차이가 유의한지 검정하기 \n",
    "### 가설설정 \n",
    "- 귀무가설 : 다이어트 전과 후의 평균 몸무게는 같다.\n",
    "- 대립가설 : 다이어트 전과 후의 평균 몸무게는 다르다. (양측검정)\n",
    "- 대립가설 : 다이어트 후의 평균몸무게는 전 대비 감소한다. (단측검정)"
   ]
  },
  {
   "cell_type": "code",
   "execution_count": 2,
   "id": "8dd00568",
   "metadata": {},
   "outputs": [],
   "source": [
    "import pandas as pd"
   ]
  },
  {
   "cell_type": "code",
   "execution_count": 3,
   "id": "292a03b2",
   "metadata": {},
   "outputs": [],
   "source": [
    "df = pd.read_csv(\"datas2/다이어트약_효과검증.csv\",encoding=\"utf-8\")"
   ]
  },
  {
   "cell_type": "code",
   "execution_count": 7,
   "id": "0fc9e554",
   "metadata": {},
   "outputs": [
    {
     "data": {
      "text/plain": [
       "Index(['다이어트전(kg)', '다이어트후(kg)'], dtype='object')"
      ]
     },
     "execution_count": 7,
     "metadata": {},
     "output_type": "execute_result"
    }
   ],
   "source": [
    "df.columns"
   ]
  },
  {
   "cell_type": "code",
   "execution_count": 6,
   "id": "fc7b9407",
   "metadata": {},
   "outputs": [
    {
     "data": {
      "text/plain": [
       "0     87.41\n",
       "1     81.05\n",
       "2     60.72\n",
       "3     81.02\n",
       "4     75.75\n",
       "5     85.48\n",
       "6     62.11\n",
       "7     56.56\n",
       "8     85.11\n",
       "9     80.67\n",
       "10    66.65\n",
       "11    59.29\n",
       "12    77.08\n",
       "13    80.08\n",
       "14    82.89\n",
       "15    84.45\n",
       "16    88.72\n",
       "17    67.97\n",
       "18    73.23\n",
       "19    75.32\n",
       "20    58.96\n",
       "21    55.89\n",
       "22    89.54\n",
       "23    73.34\n",
       "24    69.92\n",
       "25    76.70\n",
       "26    72.76\n",
       "27    84.80\n",
       "28    81.31\n",
       "29    77.63\n",
       "30    57.19\n",
       "31    89.08\n",
       "32    68.69\n",
       "33    66.58\n",
       "34    61.49\n",
       "35    67.12\n",
       "36    69.87\n",
       "37    82.98\n",
       "38    72.75\n",
       "39    79.50\n",
       "40    57.93\n",
       "41    65.19\n",
       "42    70.02\n",
       "43    83.36\n",
       "44    78.59\n",
       "45    88.18\n",
       "46    59.97\n",
       "47    82.43\n",
       "48    58.08\n",
       "49    58.60\n",
       "Name: 다이어트전(kg), dtype: float64"
      ]
     },
     "execution_count": 6,
     "metadata": {},
     "output_type": "execute_result"
    }
   ],
   "source": [
    "# df 확인\n",
    "df[\"다이어트전(kg)\"]"
   ]
  },
  {
   "cell_type": "code",
   "execution_count": 9,
   "id": "6778516a",
   "metadata": {},
   "outputs": [],
   "source": [
    "#A그룹 \n",
    "before = df[\"다이어트전(kg)\"]\n",
    "#B그룹\n",
    "after = df[\"다이어트후(kg)\"]"
   ]
  },
  {
   "cell_type": "markdown",
   "id": "94de1c6a",
   "metadata": {},
   "source": [
    "### 정규성 검정\n",
    "- A와 B 두 그룹간의 차이가 정규분포를 따르는지 판단하기 \n",
    "- 방법1 : shapiro-wilk 검정"
   ]
  },
  {
   "cell_type": "code",
   "execution_count": 13,
   "id": "f5b6973e",
   "metadata": {},
   "outputs": [
    {
     "data": {
      "text/plain": [
       "ShapiroResult(statistic=np.float64(0.9724073061486513), pvalue=np.float64(0.2892093416018284))"
      ]
     },
     "execution_count": 13,
     "metadata": {},
     "output_type": "execute_result"
    }
   ],
   "source": [
    "from scipy import stats\n",
    "stats.shapiro(after - before)\n",
    "\n",
    "#결과해석\n",
    "# p-value > 0.05이므로, 정규분포를 따른다는 것을 알 수 있음"
   ]
  },
  {
   "cell_type": "markdown",
   "id": "75910862",
   "metadata": {},
   "source": [
    "- 방법2 : D'Agostino-Pearson 검정"
   ]
  },
  {
   "cell_type": "code",
   "execution_count": 15,
   "id": "a8ce950e",
   "metadata": {},
   "outputs": [
    {
     "data": {
      "text/plain": [
       "NormaltestResult(statistic=np.float64(2.079777506462687), pvalue=np.float64(0.35349400483724547))"
      ]
     },
     "execution_count": 15,
     "metadata": {},
     "output_type": "execute_result"
    }
   ],
   "source": [
    "stats.normaltest(after - before)\n",
    "#결과해석 \n",
    "# p-value > 0.05이므로, 정규분포를 따른다는 것을 알 수 있음 "
   ]
  },
  {
   "cell_type": "markdown",
   "id": "3a4013f6",
   "metadata": {},
   "source": [
    "### 쌍체 표본 t-검정"
   ]
  },
  {
   "cell_type": "code",
   "execution_count": 18,
   "id": "c6e19695",
   "metadata": {},
   "outputs": [
    {
     "data": {
      "text/plain": [
       "TtestResult(statistic=np.float64(9.70596986565785), pvalue=np.float64(5.370404098342324e-13), df=np.int64(49))"
      ]
     },
     "execution_count": 18,
     "metadata": {},
     "output_type": "execute_result"
    }
   ],
   "source": [
    "stats.ttest_rel(before,after)\n",
    "#결과해석\n",
    "# p-value <= 0.05 : 귀무가설을 기각함.\n",
    "# -> 확실하게 다이어트 효과가 있음을 확인\n",
    "# h0 : d =0, h1 : d!= 0\n",
    "# 통계량이 양수이기때문에 양의 효과가 있다는 것을 알 수 있음"
   ]
  },
  {
   "cell_type": "markdown",
   "id": "70f25b80",
   "metadata": {},
   "source": []
  }
 ],
 "metadata": {
  "kernelspec": {
   "display_name": "eda_env",
   "language": "python",
   "name": "python3"
  },
  "language_info": {
   "codemirror_mode": {
    "name": "ipython",
    "version": 3
   },
   "file_extension": ".py",
   "mimetype": "text/x-python",
   "name": "python",
   "nbconvert_exporter": "python",
   "pygments_lexer": "ipython3",
   "version": "3.9.21"
  }
 },
 "nbformat": 4,
 "nbformat_minor": 5
}
